{
 "cells": [
  {
   "cell_type": "code",
   "execution_count": 1,
   "id": "11dedea4",
   "metadata": {},
   "outputs": [],
   "source": [
    "def user_name(text):\n",
    "    wordlist=text.split()\n",
    "    first=wordlist[0]\n",
    "    second=wordlist[1]\n",
    "    if first[0]==second[0]:\n",
    "        return first[0]+first[1]+second[0:4]+('@github.com')\n",
    "    else:\n",
    "        return second[0]+first[0:4]+('@github.com')"
   ]
  },
  {
   "cell_type": "code",
   "execution_count": 2,
   "id": "183886e7",
   "metadata": {},
   "outputs": [
    {
     "data": {
      "text/plain": [
       "'GLyps@github.com'"
      ]
     },
     "execution_count": 2,
     "metadata": {},
     "output_type": "execute_result"
    }
   ],
   "source": [
    "user_name('Lypsum Gypsum')"
   ]
  },
  {
   "cell_type": "code",
   "execution_count": 3,
   "id": "9b764b57",
   "metadata": {},
   "outputs": [
    {
     "data": {
      "text/plain": [
       "'LyLyqw@github.com'"
      ]
     },
     "execution_count": 3,
     "metadata": {},
     "output_type": "execute_result"
    }
   ],
   "source": [
    "user_name('Lypsum Lyqwert')"
   ]
  },
  {
   "cell_type": "code",
   "execution_count": null,
   "id": "ad2e21b4",
   "metadata": {},
   "outputs": [],
   "source": []
  }
 ],
 "metadata": {
  "kernelspec": {
   "display_name": "Python 3 (ipykernel)",
   "language": "python",
   "name": "python3"
  },
  "language_info": {
   "codemirror_mode": {
    "name": "ipython",
    "version": 3
   },
   "file_extension": ".py",
   "mimetype": "text/x-python",
   "name": "python",
   "nbconvert_exporter": "python",
   "pygments_lexer": "ipython3",
   "version": "3.9.13"
  }
 },
 "nbformat": 4,
 "nbformat_minor": 5
}
